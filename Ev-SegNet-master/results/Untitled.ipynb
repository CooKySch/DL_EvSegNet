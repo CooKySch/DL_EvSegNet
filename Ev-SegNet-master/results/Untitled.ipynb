{
 "cells": [
  {
   "cell_type": "code",
   "execution_count": 3,
   "id": "eafaf608-22b0-4ed9-8b0d-c89fee259c07",
   "metadata": {},
   "outputs": [
    {
     "name": "stdout",
     "output_type": "stream",
     "text": [
      "[[0.63943514 0.10291524 0.96788966 ... 0.67200592 0.58085688 0.64712467]\n",
      " [0.67568915 0.16798848 0.65307793 ... 0.11649615 0.34698509 0.13239482]\n",
      " [0.99070406 0.47584992 0.57818145 ... 0.13229917 0.56497727 0.56736184]\n",
      " ...\n",
      " [0.33380357 0.68737791 0.968026   ... 0.23774181 0.91104144 0.42445625]\n",
      " [0.32518344 0.3072775  0.33225212 ... 0.71121041 0.75662323 0.06662833]\n",
      " [0.93243576 0.19961922 0.78909269 ... 0.96865751 0.82679749 0.5474396 ]]\n"
     ]
    }
   ],
   "source": [
    "import numpy as np \n",
    "import matplotlib.pyplot as plt \n",
    "\n",
    "arr = np.random.rand(224,352) \n",
    "print(arr)"
   ]
  },
  {
   "cell_type": "code",
   "execution_count": null,
   "id": "ea8e9a55-cccb-40db-a0ec-9f1d61dcb26a",
   "metadata": {},
   "outputs": [],
   "source": []
  }
 ],
 "metadata": {
  "environment": {
   "kernel": "python3",
   "name": "common-cu110.m91",
   "type": "gcloud",
   "uri": "gcr.io/deeplearning-platform-release/base-cu110:m91"
  },
  "kernelspec": {
   "display_name": "Python 3",
   "language": "python",
   "name": "python3"
  },
  "language_info": {
   "codemirror_mode": {
    "name": "ipython",
    "version": 3
   },
   "file_extension": ".py",
   "mimetype": "text/x-python",
   "name": "python",
   "nbconvert_exporter": "python",
   "pygments_lexer": "ipython3",
   "version": "3.7.12"
  }
 },
 "nbformat": 4,
 "nbformat_minor": 5
}

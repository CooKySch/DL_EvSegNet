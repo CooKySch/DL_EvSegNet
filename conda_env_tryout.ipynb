{
 "cells": [
  {
   "cell_type": "code",
   "execution_count": 29,
   "id": "dff745c0-5e48-4dae-aa7a-66cf2e3dbf87",
   "metadata": {},
   "outputs": [
    {
     "name": "stdout",
     "output_type": "stream",
     "text": [
      "no change     /opt/conda/condabin/conda\n",
      "no change     /opt/conda/bin/conda\n",
      "no change     /opt/conda/bin/conda-env\n",
      "no change     /opt/conda/bin/activate\n",
      "no change     /opt/conda/bin/deactivate\n",
      "no change     /opt/conda/etc/profile.d/conda.sh\n",
      "no change     /opt/conda/etc/fish/conf.d/conda.fish\n",
      "no change     /opt/conda/shell/condabin/Conda.psm1\n",
      "no change     /opt/conda/shell/condabin/conda-hook.ps1\n",
      "no change     /opt/conda/lib/python3.7/site-packages/xontrib/conda.xsh\n",
      "no change     /opt/conda/etc/profile.d/conda.csh\n",
      "no change     /home/jupyter/.bashrc\n",
      "No action taken.\n",
      "\n",
      "CommandNotFoundError: Your shell has not been properly configured to use 'conda activate'.\n",
      "To initialize your shell, run\n",
      "\n",
      "    $ conda init <SHELL_NAME>\n",
      "\n",
      "Currently supported shells are:\n",
      "  - bash\n",
      "  - fish\n",
      "  - tcsh\n",
      "  - xonsh\n",
      "  - zsh\n",
      "  - powershell\n",
      "\n",
      "See 'conda init --help' for more information and options.\n",
      "\n",
      "IMPORTANT: You may need to close and restart your shell after running 'conda init'.\n",
      "\n",
      "\n"
     ]
    }
   ],
   "source": [
    "#!sudo cp /opt/conda/pkgs/cache/497deca9.json /opt/conda/pkgs/cache/09cdf8bf.json\n",
    "#!sudo chown 1001:1002 /opt/conda/pkgs/cache/09cdf8bf.json\n",
    "!conda init\n",
    "!conda activate base"
   ]
  },
  {
   "cell_type": "code",
   "execution_count": null,
   "id": "ff24a5f3-37ee-4050-acdc-f32dd4d6c714",
   "metadata": {},
   "outputs": [],
   "source": [
    "# give it a try\n",
    "# Normal\n",
    "#!python /content/DL_EvSegNet/Ev-SegNet-master/train_eager.py --epochs 0 --dataset '/content/DL_EvSegNet/Ev-SegNet-master/data/dataset_our_codification/'\n",
    "# Debug\n",
    "!python train_eager.py --epochs 50 --dataset '../../dataset_our_codification/' --model_path 'weights/model' --n_gpu 0 --percentage_data_used 0.1 --log_dir 'logs'\n",
    " # python DL_EvSegNet/Ev-SegNet-master/train_eager.py --epochs 50 --dataset ../dataset_our_codification/' --model_path 'DL_EvSegNet/Ev-SegNet-master/weights/model' --n_gpu 0 --percentage_data_used 0.1 --log_dir 'DL_EvSegNet/Ev-SegNet-master/logs'"
   ]
  }
 ],
 "metadata": {
  "environment": {
   "kernel": "conda-root-py",
   "name": "common-cu110.m91",
   "type": "gcloud",
   "uri": "gcr.io/deeplearning-platform-release/base-cu110:m91"
  },
  "kernelspec": {
   "display_name": "Python [conda env:root] *",
   "language": "python",
   "name": "conda-root-py"
  },
  "language_info": {
   "codemirror_mode": {
    "name": "ipython",
    "version": 3
   },
   "file_extension": ".py",
   "mimetype": "text/x-python",
   "name": "python",
   "nbconvert_exporter": "python",
   "pygments_lexer": "ipython3",
   "version": "3.7.12"
  }
 },
 "nbformat": 4,
 "nbformat_minor": 5
}
